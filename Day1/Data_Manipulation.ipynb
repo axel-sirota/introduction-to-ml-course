{
  "cells": [
    {
      "cell_type": "markdown",
      "metadata": {
        "id": "view-in-github",
        "colab_type": "text"
      },
      "source": [
        "<a href=\"https://colab.research.google.com/github/axel-sirota/introduction-to-ml-course/blob/main/Day1/Data_Manipulation.ipynb\" target=\"_parent\"><img src=\"https://colab.research.google.com/assets/colab-badge.svg\" alt=\"Open In Colab\"/></a>"
      ]
    },
    {
      "cell_type": "markdown",
      "metadata": {
        "id": "qgufp0r2sdir"
      },
      "source": [
        "# Data Manipulation with Python\n",
        "\n",
        "© Data Trainers LLC. GPL v 3.0.\n",
        "\n",
        "Author: Axel Sirota"
      ]
    },
    {
      "cell_type": "markdown",
      "metadata": {
        "id": "NfR7nlX_sdiv"
      },
      "source": [
        "## Learning Objectives\n",
        "*In this lesson, we will go over the following:*\n",
        "\n",
        "- Define what Pandas is and how it relates to data science.\n",
        "- Manipulate Pandas `DataFrames` and `Series`.\n",
        "- Filter and sort data using Pandas.\n",
        "- Manipulate `DataFrame` columns.\n",
        "- Know how to handle null and missing values."
      ]
    },
    {
      "cell_type": "markdown",
      "metadata": {
        "id": "i40JC3avsdiv"
      },
      "source": [
        "## Lesson Guide\n",
        "\n",
        "- [What Is Pandas?](#pandas)\n",
        "- [Reading Files, Selecting Columns, and Summarizing](#reading-files)\n",
        "    - [Exercise 1](#exercise-one)\n",
        "    \n",
        "    \n",
        "- [Filtering and Sorting](#filtering-and-sorting)\n",
        "    - [Exercise 2](#exercise-two)\n",
        "    \n",
        "    \n",
        "- [Renaming, Adding, and Removing Columns](#columns)\n",
        "- [Handling Missing Values](#missing-values)\n",
        "    - [Exercise 3](#exercise-three)\n",
        "    \n",
        "    \n",
        "- [Split-Apply-Combine](#split-apply-combine)\n",
        "    - [Exercise 4](#exercise-four)\n",
        "    \n",
        "    \n",
        "- [Selecting Multiple Columns and Filtering Rows](#multiple-columns)\n",
        "- [Joining (Merging) DataFrames](#joining-dataframes)\n",
        "- [OPTIONAL: Other Commonly Used Features](#other-features)\n",
        "- [OPTIONAL: Other Less Used Features of Pandas](#uncommon-features)\n",
        "- [Summary](#summary)"
      ]
    },
    {
      "cell_type": "markdown",
      "metadata": {
        "id": "Rsp1PbO7sdiw"
      },
      "source": [
        "<img src=\"https://www.dropbox.com/scl/fi/9hm0wy5m0yno53wzzpm6g/pandas.jpeg?rlkey=9e9lihl1z70h3hif5jekbldy3&raw=1\" align=\"center\"/>"
      ]
    },
    {
      "cell_type": "markdown",
      "metadata": {
        "id": "70Ifw-dIsdiw"
      },
      "source": [
        "<a id=\"pandas\"></a>\n",
        "\n",
        "## What Is Pandas?\n",
        "\n",
        "- **Objective:** Define what Pandas is and how it relates to data science.\n",
        "\n",
        "Pandas is a Python library that primarily adds two new datatypes to Python: `DataFrame` and `Series`.\n",
        "\n",
        "- A `Series` is a sequence of items, where each item has a unique label (called an `index`).\n",
        "- A `DataFrame` is a table of data. Each row has a unique label (the `row index`), and each column has a unique label (the `column index`).\n",
        "- Note that each column in a `DataFrame` can be considered a `Series` (`Series` index).\n",
        "\n",
        "> Behind the scenes, these datatypes use the NumPy (\"Numerical Python\") library. NumPy primarily adds the `ndarray` (n-dimensional array) datatype to Pandas. An `ndarray` is similar to a Python list — it stores ordered data. However, it differs in three respects:\n",
        "> - Each element has the same datatype (typically fixed-size, e.g., a 32-bit integer).\n",
        "> - Elements are stored contiguously (immediately after each other) in memory for fast retrieval.\n",
        "> - The total size of an `ndarray` is fixed.\n",
        "\n",
        "> Storing `Series` and `DataFrame` data in `ndarray`s makes Pandas faster and uses less memory than standard Python datatypes. Many libraries (such as scikit-learn) accept `ndarray`s as input rather than Pandas datatypes, so we will frequently convert between them.\n"
      ]
    },
    {
      "cell_type": "markdown",
      "metadata": {
        "id": "1R85rL6Ssdiw"
      },
      "source": [
        "## Why Pandas is so popular ?\n",
        "<img src=\"https://www.dropbox.com/scl/fi/c4v7viow2hg1o99xmk1l1/pandas_stack.png?rlkey=i9tyyf6do9f8dhamxarfof90n&raw=1\"  align=\"center\"/>\n"
      ]
    },
    {
      "cell_type": "markdown",
      "metadata": {
        "id": "7w61plEcsdix"
      },
      "source": [
        "## Using Pandas\n",
        "\n",
        "Pandas is frequently used in data science because it offers a large set of commonly used functions, is relatively fast, and has a large community. Because many data science libraries also use NumPy to manipulate data, you can easily transfer data between libraries (as we will often do in this class!).\n",
        "\n",
        "Pandas is a large library that typically takes a lot of practice to learn. It heavily overrides Python operators, resulting in odd-looking syntax. For example, given a `DataFrame` called `cars` which contains a column `mpg`, we might want to view all cars with mpg over 35. To do this, we might write: `cars[cars['mpg'] > 35]`. In standard Python, this would most likely give a syntax error. (**Challenge:** Using only built-in datatypes, can you define `cars` and `mpg` to make this expression valid?)\n",
        "\n",
        "Pandas also highly favors certain patterns of use. For example, looping through a `DataFrame` row by row is highly discouraged. Instead, Pandas favors using **vectorized functions** that operate column by column. (This is because each column is stored separately as an `ndarray`, and NumPy is optimized for operating on `ndarray`s.)\n",
        "\n",
        "Do not be discouraged if Pandas feels overwhelming. Gradually, as you use it, you will become familiar with which methods to use and the \"Pandas way\" of thinking about and manipulating data."
      ]
    },
    {
      "cell_type": "markdown",
      "metadata": {
        "id": "xfpJSoeBsdix"
      },
      "source": [
        "### Class Methods and Attributes\n",
        "\n",
        "Pandas `DataFrame`s are Pandas class objects and therefore come with attributes and methods. To access these, follow the variable name with a dot. For example, given a `DataFrame` called `users`:\n",
        "\n",
        "```\n",
        "- users.index       # accesses the `index` attribute -- note there are no parentheses. attributes are not callable\n",
        "- users.head()      # calls the `head` method (since there are open/closed parentheses)\n",
        "- users.head(10)    # calls the `head` method with parameter `10`, indicating the first 10 rows. this is the same as:\n",
        "- users.head(n=10)  # calls the `head` method, setting the named parameter `n` to have a value of `10`.\n",
        "```\n",
        "\n",
        "We know that the `head` method accepts one parameter with an optional name of `n` because it is in the documentation for that method. Let's see how to view the documentation next."
      ]
    },
    {
      "cell_type": "markdown",
      "metadata": {
        "id": "SrfER00Isdix"
      },
      "source": [
        "## First lets import Pandas"
      ]
    },
    {
      "cell_type": "code",
      "execution_count": null,
      "metadata": {
        "id": "zv596sN8sdix"
      },
      "outputs": [],
      "source": [
        "# Load Pandas into Python\n",
        "import pandas as pd\n",
        "from matplotlib import pyplot as plt\n",
        "\n",
        "%matplotlib inline"
      ]
    },
    {
      "cell_type": "markdown",
      "metadata": {
        "id": "A2ioykWCsdiy"
      },
      "source": [
        "<a id=\"reading-files\"></a>\n",
        "### Reading Files, Selecting Columns, and Summarizing"
      ]
    },
    {
      "cell_type": "code",
      "source": [
        "%%writefile get_data.sh\n",
        "mkdir -p data\n",
        "if [ ! -f data/user.tbl ]; then\n",
        "  wget -O data/user.tbl https://www.dropbox.com/scl/fi/ie20ab8ekk5ondv7st9ag/user.tbl?rlkey=0y6lbz33dreu8ufusw0sc2kj7&dl=0\n",
        "fi\n",
        "if [ ! -f data/drinks.csv ]; then\n",
        "  wget -O data/drinks.csv https://www.dropbox.com/scl/fi/tkfdy0mq30g2t424hmn5o/drinks.csv?rlkey=jl8r4aw1o7y7b5au8icub20pn&dl=0\n",
        "fi\n",
        "\n",
        "if [ ! -f data/ufo.csv ]; then\n",
        "  wget -O data/ufo.csv https://www.dropbox.com/scl/fi/jfdtcoxw3iujoarrqn4uk/ufo.csv?rlkey=rc55ogsir1dpd9h6kmvecpkif&dl=0\n",
        "fi\n"
      ],
      "metadata": {
        "id": "Th6l3Saqu4KE"
      },
      "execution_count": null,
      "outputs": []
    },
    {
      "cell_type": "code",
      "source": [
        "!bash get_data.sh"
      ],
      "metadata": {
        "id": "9QSCsNXEvaNN"
      },
      "execution_count": null,
      "outputs": []
    },
    {
      "cell_type": "code",
      "execution_count": null,
      "metadata": {
        "id": "uryg8Bltsdiy"
      },
      "outputs": [],
      "source": [
        "# using the read_csv method of pandas we read file\n",
        "users = pd.read_csv('./data/user.tbl', sep='|')"
      ]
    },
    {
      "cell_type": "markdown",
      "metadata": {
        "id": "g_gNSU5Isdiz"
      },
      "source": [
        "**Examine the users data.**"
      ]
    },
    {
      "cell_type": "code",
      "execution_count": null,
      "metadata": {
        "scrolled": true,
        "id": "8XExHhXLsdiz"
      },
      "outputs": [],
      "source": [
        "users               # Print the first 5 and last 5 rows."
      ]
    },
    {
      "cell_type": "code",
      "execution_count": null,
      "metadata": {
        "id": "dJQw9HFQsdiz"
      },
      "outputs": [],
      "source": [
        "type(users)             # DataFrame"
      ]
    },
    {
      "cell_type": "code",
      "execution_count": null,
      "metadata": {
        "id": "qObv2K1Isdi0"
      },
      "outputs": [],
      "source": [
        "# how to get the size of the dtaframe?\n",
        "users.shape"
      ]
    },
    {
      "cell_type": "code",
      "execution_count": null,
      "metadata": {
        "id": "XVqbUomAsdi0"
      },
      "outputs": [],
      "source": [
        "users.head(3)          # Print the first 3 rows."
      ]
    },
    {
      "cell_type": "code",
      "execution_count": null,
      "metadata": {
        "id": "UlERgDwTsdi0"
      },
      "outputs": [],
      "source": [
        "users.head(10)          # Print the first 10 rows."
      ]
    },
    {
      "cell_type": "code",
      "execution_count": null,
      "metadata": {
        "id": "9tLmU-HOsdi1"
      },
      "outputs": [],
      "source": [
        "users.tail()            # Print the last five rows."
      ]
    },
    {
      "cell_type": "code",
      "execution_count": null,
      "metadata": {
        "id": "qSlOX6cHsdi1"
      },
      "outputs": [],
      "source": [
        "users.tail(4)"
      ]
    },
    {
      "cell_type": "code",
      "execution_count": null,
      "metadata": {
        "id": "2QaXm7Ecsdi2"
      },
      "outputs": [],
      "source": [
        " # The row index (aka \"the row labels\" — in this case integers)\n",
        "users.index"
      ]
    },
    {
      "cell_type": "code",
      "execution_count": null,
      "metadata": {
        "id": "OY_XahRdsdi3"
      },
      "outputs": [],
      "source": [
        "# Column names (which is \"an index\")\n",
        "users.columns"
      ]
    },
    {
      "cell_type": "code",
      "execution_count": null,
      "metadata": {
        "id": "HWrApHL5sdi4"
      },
      "outputs": [],
      "source": [
        "# Datatypes of each column — each column is stored as an ndarray, which has a datatype\n",
        "users.dtypes"
      ]
    },
    {
      "cell_type": "code",
      "execution_count": null,
      "metadata": {
        "id": "4TrTAQS5sdi4"
      },
      "outputs": [],
      "source": [
        "# Number of rows and columns\n",
        "users.shape"
      ]
    },
    {
      "cell_type": "code",
      "execution_count": null,
      "metadata": {
        "id": "7d2vdVlpsdi5"
      },
      "outputs": [],
      "source": [
        "users.shape[1]"
      ]
    },
    {
      "cell_type": "code",
      "execution_count": null,
      "metadata": {
        "id": "RywL7lpdsdi5"
      },
      "outputs": [],
      "source": [
        "# All values as a NumPy array\n",
        "users.values"
      ]
    },
    {
      "cell_type": "code",
      "execution_count": null,
      "metadata": {
        "scrolled": true,
        "id": "uOgxLMh4sdi6"
      },
      "outputs": [],
      "source": [
        "# Concise summary (including memory usage) — useful to quickly see if nulls exist\n",
        "users.info()"
      ]
    },
    {
      "cell_type": "markdown",
      "metadata": {
        "id": "k-l8RUIzsdi6"
      },
      "source": [
        "<br> **Select or index data**<br>\n",
        "Pandas `DataFrame`s have structural similarities with Python-style lists and dictionaries.  \n",
        "In the example below, we select a column of data using the name of the column in a similar manner to how we select a dictionary value with the dictionary key."
      ]
    },
    {
      "cell_type": "code",
      "execution_count": null,
      "metadata": {
        "id": "Ai1US04bsdi6"
      },
      "outputs": [],
      "source": [
        "# Select a column — returns a Pandas Series (essentially an ndarray with an index)\n",
        "users['gender']"
      ]
    },
    {
      "cell_type": "code",
      "execution_count": null,
      "metadata": {
        "id": "wE1pLYt2sdi6"
      },
      "outputs": [],
      "source": [
        "# DataFrame columns are Pandas Series.\n",
        "type(users['age'])"
      ]
    },
    {
      "cell_type": "code",
      "execution_count": null,
      "metadata": {
        "id": "Tk9Br7QAsdi7"
      },
      "outputs": [],
      "source": [
        "# Select one column using the DataFrame attribute.\n",
        "users.gender\n",
        "# While a useful shorthand, these attributes only exist\n",
        "# if the column name has no punctuations or spaces."
      ]
    },
    {
      "cell_type": "markdown",
      "metadata": {
        "id": "uN35ibKKsdi7"
      },
      "source": [
        "**Summarize (describe) the data.**<br>\n",
        "Pandas has a bunch of built-in methods to quickly summarize your data and provide you with a quick general understanding."
      ]
    },
    {
      "cell_type": "code",
      "execution_count": null,
      "metadata": {
        "id": "EjfHQhHdsdi7"
      },
      "outputs": [],
      "source": [
        "# Describe all numeric columns.\n",
        "users.describe()"
      ]
    },
    {
      "cell_type": "code",
      "execution_count": null,
      "metadata": {
        "id": "SCliGgDvsdi7"
      },
      "outputs": [],
      "source": [
        "# Describe all columns, including non-numeric.\n",
        "users.describe(include='all')"
      ]
    },
    {
      "cell_type": "code",
      "execution_count": null,
      "metadata": {
        "id": "xwbINaMMsdi8"
      },
      "outputs": [],
      "source": [
        "# Describe a single column — recall that \"users.gender\" refers to a Series.\n",
        "users.gender.describe() # users['gender'].describe()"
      ]
    },
    {
      "cell_type": "code",
      "execution_count": null,
      "metadata": {
        "id": "0PIXx7vjsdi8"
      },
      "outputs": [],
      "source": [
        "# Calculate the mean of the ages.\n",
        "users.age.std()"
      ]
    },
    {
      "cell_type": "code",
      "execution_count": null,
      "metadata": {
        "id": "6EHpaWvvsdi8"
      },
      "outputs": [],
      "source": [
        "# Draw a histogram of a column (the distribution of ages).\n",
        "users.age.hist(bins=5);"
      ]
    },
    {
      "cell_type": "markdown",
      "metadata": {
        "id": "41ebyve8sdi9"
      },
      "source": [
        "**Count the number of occurrences of each value.**"
      ]
    },
    {
      "cell_type": "code",
      "execution_count": null,
      "metadata": {
        "id": "_6vLz_Vdsdi9"
      },
      "outputs": [],
      "source": [
        "users.gender.value_counts()\n",
        "\n",
        "# Most useful for categorical variables"
      ]
    },
    {
      "cell_type": "code",
      "execution_count": null,
      "metadata": {
        "collapsed": true,
        "id": "wtx_pNFesdi9"
      },
      "outputs": [],
      "source": [
        "# @title\n",
        "# Q: How many of each zip codes do we have?\n"
      ]
    },
    {
      "cell_type": "code",
      "execution_count": null,
      "metadata": {
        "id": "0ydgQWS7sdi9"
      },
      "outputs": [],
      "source": [
        "users.gender.value_counts().plot(kind='bar')     # Quick plot by category"
      ]
    },
    {
      "cell_type": "code",
      "execution_count": null,
      "metadata": {
        "id": "JP0eQmpisdi-"
      },
      "outputs": [],
      "source": [
        "# Can also be used with numeric variables\n",
        "#   Try .sort_index() to sort by indices or .sort_values() to sort by counts.\n",
        "# Q: What is the most common age?\n"
      ]
    },
    {
      "cell_type": "code",
      "execution_count": null,
      "metadata": {
        "id": "4S15SNYisdi-"
      },
      "outputs": [],
      "source": [
        "# Q: What is the lowest age in the dataset?\n"
      ]
    },
    {
      "cell_type": "code",
      "execution_count": null,
      "metadata": {
        "id": "hc_gNl5gsdi-"
      },
      "outputs": [],
      "source": [
        "users.age.value_counts().sort_index().plot(kind='bar', figsize=(16,5));     # Bigger plot by increasing age\n",
        "plt.xlabel('Age');\n",
        "plt.ylabel('Number of users');\n",
        "plt.title('Number of users per age');"
      ]
    },
    {
      "cell_type": "markdown",
      "metadata": {
        "id": "xr6ydfDdsdi-"
      },
      "source": [
        "# Exercise 1\n",
        "<img src=\"https://www.dropbox.com/scl/fi/2s9j10tmw3ps899gfajgo/hands_on.jpg?rlkey=53vsb2q2qns4weqkjb0vsvdtz&raw=1\" width=\"100\" height=\"100\" align=\"right\"/>\n",
        "\n"
      ]
    },
    {
      "cell_type": "code",
      "execution_count": null,
      "metadata": {
        "id": "EBd6X87psdi_"
      },
      "outputs": [],
      "source": [
        "# Read data/drinks.csv into a DataFrame called \"drinks\".\n",
        "drinks =  pd.read_csv('data/drinks.csv', keep_default_na=False)"
      ]
    },
    {
      "cell_type": "code",
      "execution_count": null,
      "metadata": {
        "id": "-oXzobfRsdi_"
      },
      "outputs": [],
      "source": [
        "# Print the head and the tail.\n",
        "drinks.tail(20)"
      ]
    },
    {
      "cell_type": "code",
      "execution_count": null,
      "metadata": {
        "id": "DsZNJ4Xjsdi_"
      },
      "outputs": [],
      "source": [
        "# Examine the default index, datatypes, and shape.\n",
        "drinks.shape"
      ]
    },
    {
      "cell_type": "code",
      "execution_count": null,
      "metadata": {
        "id": "Jl_M8K9osdjA"
      },
      "outputs": [],
      "source": [
        "# Print the beer_servings Series.\n",
        "drinks['beer_servings']"
      ]
    },
    {
      "cell_type": "code",
      "execution_count": null,
      "metadata": {
        "id": "H7Z0sy5msdjB"
      },
      "outputs": [],
      "source": [
        "# Calculate the average beer_servings for the entire data set.\n",
        "drinks['beer_servings'].mean()"
      ]
    },
    {
      "cell_type": "code",
      "execution_count": null,
      "metadata": {
        "id": "O-qq2RZ0sdjB"
      },
      "outputs": [],
      "source": [
        "# Count the number of occurrences of each \"continent\" value and see if it looks correct.\n",
        "drinks.continent.value_counts()"
      ]
    },
    {
      "cell_type": "code",
      "execution_count": null,
      "metadata": {
        "id": "g3tbmIEusdjB"
      },
      "outputs": [],
      "source": [
        "drinks.info()"
      ]
    },
    {
      "cell_type": "code",
      "execution_count": null,
      "metadata": {
        "id": "A2-v7zMgsdjB"
      },
      "outputs": [],
      "source": [
        "drinks.tail(20)"
      ]
    },
    {
      "cell_type": "markdown",
      "metadata": {
        "id": "nRBnDy4LsdjC"
      },
      "source": [
        "<a id=\"filtering-and-sorting\"></a>\n",
        "### Filtering and Sorting\n",
        "\n",
        "<img src=\"https://www.dropbox.com/scl/fi/78qve506a1lsb8uf5c0zm/panda_sort.jpg?rlkey=2car3wlz3jn2jhliv1fnkawyi&raw=1\" width=\"300\" height=\"300\" align=\"right\"/>\n",
        "\n",
        "\n",
        "\n",
        "- **Objective:** Filter and sort data using Pandas.\n",
        "\n",
        "We can use simple operator comparisons on columns to extract relevant or drop irrelevant information."
      ]
    },
    {
      "cell_type": "code",
      "execution_count": null,
      "metadata": {
        "id": "NwjGpU67sdjC"
      },
      "outputs": [],
      "source": [
        "users['age'][0]"
      ]
    },
    {
      "cell_type": "markdown",
      "metadata": {
        "id": "T2CFzixysdjC"
      },
      "source": [
        "**Logical filtering: Only show users with age < 20.**"
      ]
    },
    {
      "cell_type": "code",
      "execution_count": null,
      "metadata": {
        "id": "NBTzTbP-sdjD"
      },
      "outputs": [],
      "source": [
        "# Create a Series of Booleans…\n",
        "# In Pandas, this comparison is performed element-wise on each row of data.\n",
        "young_bool = users.age < 20\n",
        "young_bool"
      ]
    },
    {
      "cell_type": "code",
      "execution_count": null,
      "metadata": {
        "id": "yNFsra1bsdjD"
      },
      "outputs": [],
      "source": [
        "sum(young_bool)"
      ]
    },
    {
      "cell_type": "code",
      "execution_count": null,
      "metadata": {
        "id": "8NrGxy2ysdjD"
      },
      "outputs": [],
      "source": [
        "# …and use that Series to filter rows.\n",
        "# In Pandas, indexing a DataFrame by a Series of Booleans only selects rows that are True in the Boolean.\n",
        "users[young_bool]"
      ]
    },
    {
      "cell_type": "code",
      "execution_count": null,
      "metadata": {
        "id": "5urddVS9sdjE"
      },
      "outputs": [],
      "source": [
        "users['boolage']=users.age < 20\n",
        "users.head(5)"
      ]
    },
    {
      "cell_type": "code",
      "execution_count": null,
      "metadata": {
        "id": "6Ff2_Z6gsdjE"
      },
      "outputs": [],
      "source": [
        "users['custom_column'] = users.age + users.user_id"
      ]
    },
    {
      "cell_type": "code",
      "execution_count": null,
      "metadata": {
        "id": "BOeYXse5sdjF"
      },
      "outputs": [],
      "source": [
        "users"
      ]
    },
    {
      "cell_type": "code",
      "execution_count": null,
      "metadata": {
        "id": "y6-wtumusdjG"
      },
      "outputs": [],
      "source": [
        "# Or, combine into a single step.\n",
        "users[users.age < 20]"
      ]
    },
    {
      "cell_type": "code",
      "execution_count": null,
      "metadata": {
        "id": "H3wcZgf5sdjG"
      },
      "outputs": [],
      "source": [
        "users.columns"
      ]
    },
    {
      "cell_type": "code",
      "execution_count": null,
      "metadata": {
        "id": "PorsOAsLsdjH"
      },
      "outputs": [],
      "source": [
        "users['is_young']=0"
      ]
    },
    {
      "cell_type": "code",
      "execution_count": null,
      "metadata": {
        "id": "YAQoo6XzsdjI"
      },
      "outputs": [],
      "source": [
        "users.head()"
      ]
    },
    {
      "cell_type": "code",
      "execution_count": null,
      "metadata": {
        "id": "t8vxvNXxsdjJ"
      },
      "outputs": [],
      "source": [
        "# Important: This creates a view of the original DataFrame, not a new DataFrame.\n",
        "# If you alter this view (e.g., by storing it in a variable and altering that)\n",
        "# You will alter only the slice of the DataFrame and not the actual DataFrame itself\n",
        "# Here, notice that Pandas gives you a SettingWithCopyWarning to alert you of this.\n",
        "\n",
        "# It is best practice to use .loc and .iloc instead of the syntax below\n",
        "\n",
        "users_under20 = users[users.age < 20]   # To resolve this warning, copy the `DataFrame` using `.copy()`."
      ]
    },
    {
      "cell_type": "code",
      "execution_count": null,
      "metadata": {
        "id": "vzZ1L01tsdjJ"
      },
      "outputs": [],
      "source": [
        "# Select one column from the filtered results.\n",
        "users[users.age < 20].occupation"
      ]
    },
    {
      "cell_type": "code",
      "execution_count": null,
      "metadata": {
        "scrolled": true,
        "id": "IWbHKHUgsdjJ"
      },
      "outputs": [],
      "source": [
        "# value_counts of resulting Series\n",
        "users[users.age < 20].occupation.value_counts()"
      ]
    },
    {
      "cell_type": "markdown",
      "metadata": {
        "id": "vHzSERTSsdjK"
      },
      "source": [
        "**Logical filtering with multiple conditions**"
      ]
    },
    {
      "cell_type": "code",
      "execution_count": null,
      "metadata": {
        "id": "_x7IPrcBsdjK"
      },
      "outputs": [],
      "source": [
        "# Ampersand for `AND` condition. (This is a \"bitwise\" `AND`.)\n",
        "# Important: You MUST put parentheses around each expression because `&` has a higher precedence than `<`.\n",
        "users[(users.age < 20) & (users.gender=='F')]"
      ]
    },
    {
      "cell_type": "code",
      "execution_count": null,
      "metadata": {
        "id": "pqYWBBYWsdjL"
      },
      "outputs": [],
      "source": [
        "# Pipe for `OR` condition. (This is a \"bitwise\" `OR`.)\n",
        "# Important: You MUST put parentheses around each expression because `|` has a higher precedence than `<`.\n",
        "users[(users.age < 20) | (users.age > 60)]"
      ]
    },
    {
      "cell_type": "code",
      "execution_count": null,
      "metadata": {
        "id": "PMog2ltJsdjM"
      },
      "outputs": [],
      "source": [
        "# Preferred alternative to multiple `OR` conditions\n",
        "\n",
        "# users[(users['occupation']=='doctor') | (users['occupation']=='lawyer')]\n",
        "users[users.occupation.isin(['doctor', 'lawyer'])]"
      ]
    },
    {
      "cell_type": "markdown",
      "metadata": {
        "id": "winUpgbEsdjM"
      },
      "source": [
        "**Sorting**"
      ]
    },
    {
      "cell_type": "code",
      "execution_count": null,
      "metadata": {
        "id": "TbfAnWLIsdjN"
      },
      "outputs": [],
      "source": [
        "# Sort a Series.\n",
        "users.age.sort_values()"
      ]
    },
    {
      "cell_type": "code",
      "execution_count": null,
      "metadata": {
        "id": "ZzrMWLcIsdjN"
      },
      "outputs": [],
      "source": [
        "# Sort a DataFrame by a single column.\n",
        "users.sort_values('age')"
      ]
    },
    {
      "cell_type": "code",
      "execution_count": null,
      "metadata": {
        "id": "4_udZFsnsdjO"
      },
      "outputs": [],
      "source": [
        "# Use descending order instead.\n",
        "users.sort_values('age', ascending=False)"
      ]
    },
    {
      "cell_type": "code",
      "execution_count": null,
      "metadata": {
        "id": "ZKMBptIYsdjP"
      },
      "outputs": [],
      "source": [
        "# Sort by multiple columns.\n",
        "users.sort_values(['occupation', 'age'])"
      ]
    },
    {
      "cell_type": "markdown",
      "metadata": {
        "id": "Jscv6Kl0sdjP"
      },
      "source": [
        "<a id=\"exercise-two\"></a>\n",
        "### Exercise 2\n",
        "\n",
        "<img src=\"https://www.dropbox.com/scl/fi/2s9j10tmw3ps899gfajgo/hands_on.jpg?rlkey=53vsb2q2qns4weqkjb0vsvdtz&raw=1\" width=\"100\" height=\"100\" align=\"right\"/>\n",
        "\n",
        "Use the `drinks.csv` or `drinks` `DataFrame` from earlier to complete the following."
      ]
    },
    {
      "cell_type": "code",
      "execution_count": null,
      "metadata": {
        "id": "jjWKrembsdjQ"
      },
      "outputs": [],
      "source": [
        "drinks = pd.read_csv('./data/drinks.csv')\n",
        "drinks.head(2)"
      ]
    },
    {
      "cell_type": "code",
      "execution_count": null,
      "metadata": {
        "id": "gNHMVLD5sdjQ"
      },
      "outputs": [],
      "source": [
        "# Filter DataFrame to only include European countries.\n",
        "# Filter DataFrame to only include European countries.\n"
      ]
    },
    {
      "cell_type": "code",
      "execution_count": null,
      "metadata": {
        "id": "PlKWyAJ6sdjR"
      },
      "outputs": [],
      "source": [
        "# Filter DataFrame to only include European countries with wine_servings > 300.\n"
      ]
    },
    {
      "cell_type": "code",
      "execution_count": null,
      "metadata": {
        "id": "YnToYKREsdjS"
      },
      "outputs": [],
      "source": [
        "# Calculate the average beer_servings for all of Europe.\n"
      ]
    },
    {
      "cell_type": "code",
      "execution_count": null,
      "metadata": {
        "id": "SHv8bnVtsdjT"
      },
      "outputs": [],
      "source": [
        "# Determine which 10 countries have the highest total_litres_of_pure_alcohol.\n"
      ]
    },
    {
      "cell_type": "markdown",
      "metadata": {
        "id": "DVWRNKk6sdjT"
      },
      "source": [
        "<a id=\"columns\"></a>\n",
        "### Renaming, Adding, and Removing Columns\n",
        "\n",
        "<img src=\"https://www.dropbox.com/scl/fi/trspdffcs964ycbbu77n7/panda_api.jpeg?rlkey=o3q09u21kjfi5tbamnl4zmxmh&raw=1\" width=\"300\" height=\"300\" align=\"right\"/>\n",
        "\n",
        "- **Objective:** Manipulate `DataFrame` columns."
      ]
    },
    {
      "cell_type": "code",
      "execution_count": null,
      "metadata": {
        "id": "sJTGAu9FsdjT"
      },
      "outputs": [],
      "source": [
        "\n",
        "drinks.head()"
      ]
    },
    {
      "cell_type": "code",
      "execution_count": null,
      "metadata": {
        "id": "tt1bz5aXsdjT"
      },
      "outputs": [],
      "source": [
        "# Rename one or more columns in a single output using value mapping.\n",
        "drinks.rename(columns={'beer_servings':'beer', 'wine_servings':'wine','spirit_servings':'spirit'})\n"
      ]
    },
    {
      "cell_type": "code",
      "execution_count": null,
      "metadata": {
        "id": "gazg6wDCsdjU"
      },
      "outputs": [],
      "source": [
        "drinks.head(2)"
      ]
    },
    {
      "cell_type": "code",
      "execution_count": null,
      "metadata": {
        "id": "KFPZWbWusdjU"
      },
      "outputs": [],
      "source": [
        "# Rename one or more columns in the original DataFrame.\n",
        "drinks.rename(columns={'beer_servings':'beer', 'wine_servings':'wine'\n",
        "                       ,'spirit_servings':'spirit','total_litres_of_pure_alcohol':'liters'}, inplace=True)"
      ]
    },
    {
      "cell_type": "code",
      "execution_count": null,
      "metadata": {
        "id": "v3CWCHt0sdjU"
      },
      "outputs": [],
      "source": [
        "drinks.head(2)"
      ]
    },
    {
      "cell_type": "markdown",
      "metadata": {
        "id": "XeWp7HuFsdjU"
      },
      "source": [
        "**Easy Column Operations**<br>\n",
        "Rather than having to reference indexes and create for loops to do column-wise operations, Pandas is smart and knows that when we add columns together we want to add the values in each row together."
      ]
    },
    {
      "cell_type": "code",
      "execution_count": null,
      "metadata": {
        "id": "udhquiCZsdjW"
      },
      "outputs": [],
      "source": [
        "# Add a new column as a function of existing columns.\n",
        "drinks['servings'] = drinks.beer + drinks.spirit + drinks.wine\n",
        "drinks['mL'] = drinks.liters * 1000\n",
        "\n",
        "drinks.head()"
      ]
    },
    {
      "cell_type": "markdown",
      "metadata": {
        "id": "fs8i3PBjsdjW"
      },
      "source": [
        "**Removing Columns**"
      ]
    },
    {
      "cell_type": "code",
      "execution_count": null,
      "metadata": {
        "id": "Y7IHbyrtsdjX"
      },
      "outputs": [],
      "source": [
        "# Drop multiple columns.\n",
        "drinks.drop([1,2], axis=0)"
      ]
    },
    {
      "cell_type": "code",
      "execution_count": null,
      "metadata": {
        "id": "Sg1bMom5sdjX"
      },
      "outputs": [],
      "source": [
        "drinks.head(3)"
      ]
    },
    {
      "cell_type": "code",
      "execution_count": null,
      "metadata": {
        "id": "FnD2hf3AsdjX"
      },
      "outputs": [],
      "source": [
        "# Drop on the original DataFrame rather than returning a new one.\n",
        "drinks.drop(['mL', 'servings'], axis=1, inplace=True)"
      ]
    },
    {
      "cell_type": "code",
      "execution_count": null,
      "metadata": {
        "id": "XP2FF11bsdjZ"
      },
      "outputs": [],
      "source": [
        "drinks.head(3)"
      ]
    },
    {
      "cell_type": "markdown",
      "metadata": {
        "id": "UpOoINkjsdjZ"
      },
      "source": [
        "<a id=\"missing-values\"></a>\n",
        "### Handling Missing Values\n",
        "\n",
        "\n",
        "<img src=\"https://www.dropbox.com/scl/fi/n6ehznug3vocwaflon3ho/panda_analysis.jpeg?rlkey=taznbre3t21y7423pkmk1ku1f&raw=1\" width=\"300\" height=\"300\" align=\"right\"/>\n",
        "\n",
        "- **Objective:** Know how to handle null and missing values.\n",
        "\n",
        "Sometimes, values will be missing from the source data or as a byproduct of manipulations. It is very important to detect missing data. Missing data can:\n",
        "\n",
        "- Make the entire row ineligible to be training data for a model.\n",
        "- Hint at data-collection errors.\n",
        "- Indicate improper conversion or manipulation.\n",
        "- Actually not be missing — it sometimes means \"zero,\" \"false,\" \"not applicable,\" or \"entered an empty string.\"\n",
        "\n",
        "For example, a `.csv` file might have a missing value in some data fields:\n",
        "\n",
        "```\n",
        "tool_name,material,cost\n",
        "hammer,wood,8\n",
        "chainsaw,,\n",
        "wrench,metal,5\n",
        "```\n",
        "\n",
        "When this data is imported, \"null\" values will be stored in the second row (in the \"material\" and \"cost\" columns).\n",
        "\n",
        "> In Pandas, a \"null\" value is either `None` or `np.NaN` (Not a Number). Many fixed-size numeric datatypes (such as integers) do not have a way of representing `np.NaN`. So, numeric columns will be promoted to floating-point datatypes that do support it. For example, when importing the `.csv` file above:\n",
        "\n",
        "> - **For the second row:** `None` will be stored in the \"material\" column and `np.NaN` will be stored in the \"cost\" column. The entire \"cost\" column (stored as a single `ndarray`) must be stored as floating-point values to accommodate the `np.NaN`, even though an integer `8` is in the first row."
      ]
    },
    {
      "cell_type": "code",
      "execution_count": null,
      "metadata": {
        "scrolled": true,
        "id": "MXN3rWRosdjZ"
      },
      "outputs": [],
      "source": [
        "# Missing values are usually excluded in calculations by default.\n",
        "drinks.continent.value_counts()              # Excludes missing values in the calculation"
      ]
    },
    {
      "cell_type": "code",
      "execution_count": null,
      "metadata": {
        "id": "oPE1xuhssdjZ"
      },
      "outputs": [],
      "source": [
        "# Includes missing values\n",
        "drinks.continent.value_counts(dropna=False)"
      ]
    },
    {
      "cell_type": "code",
      "execution_count": null,
      "metadata": {
        "id": "l2H3FHgusdja"
      },
      "outputs": [],
      "source": [
        "# Count the missing values — sum() works because True is 1 and False is 0.\n",
        "drinks.continent.isnull()"
      ]
    },
    {
      "cell_type": "code",
      "execution_count": null,
      "metadata": {
        "id": "DB9DPFtosdja"
      },
      "outputs": [],
      "source": [
        "# Find missing values in a Series.\n",
        "# True if missing, False if not missing\n",
        "drinks.continent.isnull().sum()"
      ]
    },
    {
      "cell_type": "code",
      "execution_count": null,
      "metadata": {
        "id": "qS-HjHossdja"
      },
      "outputs": [],
      "source": [
        "# Only show rows where continent is not missing.\n",
        "drinks[drinks.continent.isnull()]\n",
        "#drinks[drinks.continent.notnull()]"
      ]
    },
    {
      "cell_type": "markdown",
      "metadata": {
        "id": "OE4MWyOqsdjb"
      },
      "source": [
        "**Find missing values in a `DataFrame`.**"
      ]
    },
    {
      "cell_type": "code",
      "execution_count": null,
      "metadata": {
        "id": "2ztaY348sdjb"
      },
      "outputs": [],
      "source": [
        "# Count the missing values in each column — remember by default, axis=0.\n",
        "print((drinks.isnull().sum()))\n",
        "\n",
        "drinks.isnull().sum().plot(kind='bar');         # visually\n",
        "plt.title('Number of null values per column');"
      ]
    },
    {
      "cell_type": "markdown",
      "metadata": {
        "id": "YqiVSd3jsdjb"
      },
      "source": [
        "**Dropping Missing Values**"
      ]
    },
    {
      "cell_type": "code",
      "execution_count": null,
      "metadata": {
        "id": "fnBvPTwjsdjb"
      },
      "outputs": [],
      "source": [
        "drinks.shape"
      ]
    },
    {
      "cell_type": "code",
      "execution_count": null,
      "metadata": {
        "id": "Ri9DGCWUsdjb"
      },
      "outputs": [],
      "source": [
        "# Drop a row if ANY values are missing from any column — can be dangerous!\n",
        "drinks.dropna()"
      ]
    },
    {
      "cell_type": "code",
      "execution_count": null,
      "metadata": {
        "id": "HJ9sdU4-sdjb"
      },
      "outputs": [],
      "source": [
        "# Drop a row only if ALL values are missing.\n",
        "drinks.dropna(how='all')"
      ]
    },
    {
      "cell_type": "markdown",
      "metadata": {
        "id": "zOff8VJNsdjc"
      },
      "source": [
        "**Filling Missing Values**<br>\n",
        "You may have noticed that the continent North America (NA) does not appear in the `continent` column. Pandas read in the original data and saw \"NA\", thought it was a missing value, and converted it to a `NaN`, missing value."
      ]
    },
    {
      "cell_type": "code",
      "execution_count": null,
      "metadata": {
        "id": "nNz5bfRjsdjc"
      },
      "outputs": [],
      "source": [
        "# Fill in missing values with \"NA\" — this is dangerous to do without manually verifying them!\n",
        "drinks.continent.fillna(value='NA')"
      ]
    },
    {
      "cell_type": "code",
      "execution_count": null,
      "metadata": {
        "id": "dTbJVPJ7sdjc"
      },
      "outputs": [],
      "source": [
        "# Modifies \"drinks\" in-place\n",
        "drinks.continent.fillna(value='NA', inplace=True)"
      ]
    },
    {
      "cell_type": "code",
      "execution_count": null,
      "metadata": {
        "id": "tw_2Sigasdjc"
      },
      "outputs": [],
      "source": [
        "sum(drinks.continent.isnull())"
      ]
    },
    {
      "cell_type": "markdown",
      "metadata": {
        "id": "VfSl2-_Fsdjc"
      },
      "source": [
        "<a id=\"exercise-three\"></a>\n",
        "### Exercise 3\n",
        "\n",
        "\n",
        "<img src=\"https://www.dropbox.com/scl/fi/2s9j10tmw3ps899gfajgo/hands_on.jpg?rlkey=53vsb2q2qns4weqkjb0vsvdtz&raw=1\" width=\"100\" height=\"100\" align=\"right\"/>"
      ]
    },
    {
      "cell_type": "code",
      "execution_count": null,
      "metadata": {
        "id": "HEOm6lirsdjd"
      },
      "outputs": [],
      "source": [
        "# Read ufo.csv into a DataFrame called \"ufo\".\n",
        "ufo = pd.read_csv('data/ufo.csv')"
      ]
    },
    {
      "cell_type": "code",
      "execution_count": null,
      "metadata": {
        "id": "q_UxZwohsdjd"
      },
      "outputs": [],
      "source": [
        "ufo"
      ]
    },
    {
      "cell_type": "code",
      "execution_count": null,
      "metadata": {
        "id": "rv28ouZSsdjd"
      },
      "outputs": [],
      "source": [
        "# Check the shape of the DataFrame.\n",
        "ufo.shape"
      ]
    },
    {
      "cell_type": "code",
      "execution_count": null,
      "metadata": {
        "id": "JRF8hn8esdjd"
      },
      "outputs": [],
      "source": [
        "# What are the three most common colors reported?\n",
        "ufo['Colors Reported'].value_counts().head(3).index"
      ]
    },
    {
      "cell_type": "code",
      "execution_count": null,
      "metadata": {
        "id": "eyRqVctBsdjd"
      },
      "outputs": [],
      "source": [
        "# Rename any columns with spaces so that they don't contain spaces.\n",
        "ufo.rename(columns = {'Colors Reported': 'colors', 'Shape Reported': 'shape'}, inplace=True)"
      ]
    },
    {
      "cell_type": "code",
      "execution_count": null,
      "metadata": {
        "id": "8fSuFtfUsdje"
      },
      "outputs": [],
      "source": [
        "# For reports in VA, what's the most common city?\n",
        "ufo[ufo.State == 'VA'].City.value_counts().head(1)"
      ]
    },
    {
      "cell_type": "code",
      "execution_count": null,
      "metadata": {
        "id": "rAdlLRiCsdje"
      },
      "outputs": [],
      "source": [
        "# Print a DataFrame containing only reports from Arlington, VA.\n",
        "ufo[ ( ufo.State == 'VA' ) & ( ufo.City == 'Arlington' ) ]"
      ]
    },
    {
      "cell_type": "code",
      "execution_count": null,
      "metadata": {
        "id": "ISBsioswsdje"
      },
      "outputs": [],
      "source": [
        "# Count the number of missing values in each column.\n",
        "ufo.isnull().sum()"
      ]
    },
    {
      "cell_type": "code",
      "execution_count": null,
      "metadata": {
        "id": "RTGzsMEzsdjf"
      },
      "outputs": [],
      "source": [
        "# How many rows remain if you drop all rows with any missing values?\n",
        "ufo.dropna().shape"
      ]
    },
    {
      "cell_type": "markdown",
      "metadata": {
        "id": "bsq5NG8qsdjf"
      },
      "source": [
        "<a id=\"split-apply-combine\"></a>\n",
        "### Split-Apply-Combine\n",
        "\n",
        "<img src=\"./images/pandas_tool.jpg\" width=\"300\" height=\"300\" align=\"right\"/>\n",
        "\n",
        "Split-apply-combine is a pattern for analyzing data. Suppose we want to find mean beer consumption per country. Then:\n",
        "\n",
        "- **Split:** We group data by continent.\n",
        "- **Apply:** For each group, we apply the `mean()` function to find the average beer consumption.\n",
        "- **Combine:** We now combine the continent names with the `mean()`s to produce a summary of our findings."
      ]
    },
    {
      "cell_type": "code",
      "execution_count": null,
      "metadata": {
        "id": "4y4_O_g_sdjf"
      },
      "outputs": [],
      "source": [
        "drinks.head(3)"
      ]
    },
    {
      "cell_type": "code",
      "execution_count": null,
      "metadata": {
        "id": "2Lgv5bYrsdjf"
      },
      "outputs": [],
      "source": [
        "# For each continent, calculate the mean beer servings.\n",
        "drinks.groupby('continent').beer.mean()   ## SELECT AVG(beer) from drinks groupby continent"
      ]
    },
    {
      "cell_type": "code",
      "execution_count": null,
      "metadata": {
        "id": "fobxI1Dksdjg"
      },
      "outputs": [],
      "source": [
        "# For each continent, calculate the mean of all numeric columns.\n",
        "drinks.groupby('continent').mean()"
      ]
    },
    {
      "cell_type": "code",
      "execution_count": null,
      "metadata": {
        "id": "vIUwlOibsdjg"
      },
      "outputs": [],
      "source": [
        "# For each continent, describe beer servings.\n",
        "drinks.groupby('continent').beer.describe()"
      ]
    },
    {
      "cell_type": "code",
      "execution_count": null,
      "metadata": {
        "id": "K4-51DzOsdjg"
      },
      "outputs": [],
      "source": [
        "# For each continent, describe all numeric columns.\n",
        "drinks.groupby('continent').describe().spirit['mean']"
      ]
    },
    {
      "cell_type": "code",
      "execution_count": null,
      "metadata": {
        "scrolled": true,
        "id": "Q4A3a9H2sdjg"
      },
      "outputs": [],
      "source": [
        "# For each continent, count the number of rows.\n",
        "print((drinks.continent.value_counts()))   # should be the same"
      ]
    },
    {
      "cell_type": "markdown",
      "metadata": {
        "id": "OiA2yr9Csdjg"
      },
      "source": [
        "<a id=\"exercise-four\"></a>\n",
        "### Exercise 4 : TAKE HOME\n",
        "\n",
        "<img src=\"./images/hands_on.jpg\" width=\"100\" height=\"100\" align=\"right\"/>\n",
        "\n",
        "Use the \"users\" `DataFrame` or \"users\" file in the Data folder to complete the following."
      ]
    },
    {
      "cell_type": "code",
      "execution_count": null,
      "metadata": {
        "id": "gFaEauZKsdjh"
      },
      "outputs": [],
      "source": [
        "users.head(2)"
      ]
    },
    {
      "cell_type": "code",
      "execution_count": null,
      "metadata": {
        "id": "3lMleDzGsdjh"
      },
      "outputs": [],
      "source": [
        "# For each occupation in \"users\", count the number of occurrences.\n"
      ]
    },
    {
      "cell_type": "code",
      "execution_count": null,
      "metadata": {
        "id": "NNhxy0mVsdji"
      },
      "outputs": [],
      "source": [
        "# For each occupation, calculate the mean age.\n"
      ]
    },
    {
      "cell_type": "code",
      "execution_count": null,
      "metadata": {
        "scrolled": true,
        "id": "f8wKnWNbsdji"
      },
      "outputs": [],
      "source": [
        "# For each occupation, calculate the minimum and maximum ages.\n"
      ]
    },
    {
      "cell_type": "code",
      "execution_count": null,
      "metadata": {
        "id": "p6v9UEQBsdji"
      },
      "outputs": [],
      "source": [
        "# For each combination of occupation and gender, calculate the mean age.\n"
      ]
    },
    {
      "cell_type": "markdown",
      "metadata": {
        "id": "WcQWyu6csdji"
      },
      "source": [
        "----"
      ]
    },
    {
      "cell_type": "markdown",
      "metadata": {
        "id": "Xat-Dt2Ssdji"
      },
      "source": [
        "<a id=\"multiple-columns\"></a>\n",
        "## Selecting Multiple Columns and Filtering Rows"
      ]
    },
    {
      "cell_type": "code",
      "execution_count": null,
      "metadata": {
        "id": "JH2F3Dvisdjj"
      },
      "outputs": [],
      "source": [
        "ufo.head()"
      ]
    },
    {
      "cell_type": "code",
      "execution_count": null,
      "metadata": {
        "id": "CQvh0sXVsdjj"
      },
      "outputs": [],
      "source": [
        "# Or, combine into a single step (this is a Python list inside of the Python index operator!).\n",
        "ufo[['City', 'State']].head()"
      ]
    },
    {
      "cell_type": "markdown",
      "metadata": {
        "id": "DeRm8Jxfsdjj"
      },
      "source": [
        "**Use `loc` to select columns by name.**"
      ]
    },
    {
      "cell_type": "code",
      "execution_count": null,
      "metadata": {
        "id": "3IeI-7sqsdjj"
      },
      "outputs": [],
      "source": [
        "# \"loc\" locates the values from the first parameter (colon means \"all rows\"), and the column \"City\".\n",
        "ufo.loc[3:10, 'City']"
      ]
    },
    {
      "cell_type": "code",
      "execution_count": null,
      "metadata": {
        "id": "bTmBsFT6sdjk"
      },
      "outputs": [],
      "source": [
        "# Select two columns.\n",
        "ufo.loc[3:19, ['City', 'State']]"
      ]
    },
    {
      "cell_type": "code",
      "execution_count": null,
      "metadata": {
        "id": "k7qbZlYmsdjk"
      },
      "outputs": [],
      "source": [
        "# Select a range of columns — unlike Python ranges, Pandas index ranges INCLUDE the final column in the range.\n",
        "ufo.loc[0:10, 'City':'State']\n"
      ]
    },
    {
      "cell_type": "code",
      "execution_count": null,
      "metadata": {
        "id": "ETixyTIZsdjk"
      },
      "outputs": [],
      "source": [
        "# \"loc\" can also filter rows by \"name\" (the index).\n",
        "# Row 0, all columns\n",
        "ufo.loc[0, :]"
      ]
    },
    {
      "cell_type": "code",
      "execution_count": null,
      "metadata": {
        "id": "dbt0Bx1Nsdjl"
      },
      "outputs": [],
      "source": [
        "# Rows 0/1/2, all columns\n",
        "ufo.loc[0:2, :]  # ufo.head(3)"
      ]
    },
    {
      "cell_type": "code",
      "execution_count": null,
      "metadata": {
        "id": "GMQ_T30ssdjl"
      },
      "outputs": [],
      "source": [
        "# Rows 0/1/2, range of columns\n",
        "ufo.loc[0:2, 'City':'State']"
      ]
    },
    {
      "cell_type": "code",
      "execution_count": null,
      "metadata": {
        "id": "upEXwcZ9sdjm"
      },
      "outputs": [],
      "source": [
        "ufo_2 = ufo.set_index(['City', 'State'])"
      ]
    },
    {
      "cell_type": "code",
      "execution_count": null,
      "metadata": {
        "id": "xfaTjUVRsdjm"
      },
      "outputs": [],
      "source": [
        "ufo_2.loc[('Ithaca', 'NY'),:]"
      ]
    },
    {
      "cell_type": "code",
      "execution_count": null,
      "metadata": {
        "id": "TTzpvD5asdjm"
      },
      "outputs": [],
      "source": [
        "ufo.sort_values('City').index"
      ]
    },
    {
      "cell_type": "markdown",
      "metadata": {
        "id": "w4IBlYEysdjm"
      },
      "source": [
        "## Pandas CheatSheet\n",
        "https://pandas.pydata.org/Pandas_Cheat_Sheet.pdf"
      ]
    },
    {
      "cell_type": "markdown",
      "metadata": {
        "id": "WcNPQWCTsdjm"
      },
      "source": [
        "<a id=\"other-features\"></a>\n",
        "### OPTIONAL: Other Commonly Used Features"
      ]
    },
    {
      "cell_type": "code",
      "execution_count": null,
      "metadata": {
        "id": "8Pzp04cmsdjm"
      },
      "outputs": [],
      "source": [
        "# Apply an arbitrary function to each value of a Pandas column, storing the result in a new column.\n",
        "users['under30'] = users.age.apply(lambda age: age < 30)\n",
        "users"
      ]
    },
    {
      "cell_type": "code",
      "execution_count": null,
      "metadata": {
        "id": "GiBK0Iujsdjn"
      },
      "outputs": [],
      "source": [
        "# Apply an arbitrary function to each row of a DataFrame, storing the result in a new column.\n",
        "#  (Remember that, by default, axis=0. Since we want to go row by row, we set axis=1.)\n",
        "users['under30male'] = users.apply(lambda row: row.age < 30 and row.gender == 'M', axis=1)"
      ]
    },
    {
      "cell_type": "code",
      "execution_count": null,
      "metadata": {
        "id": "Ufred-Uzsdjn"
      },
      "outputs": [],
      "source": [
        "# Map existing values to a different set of values.\n",
        "users['is_male'] = users.gender.map({'F':0, 'M':1})"
      ]
    },
    {
      "cell_type": "code",
      "execution_count": null,
      "metadata": {
        "id": "gFzdSMF2sdjn"
      },
      "outputs": [],
      "source": [
        "# Replace all instances of a value in a column (must match entire value).\n",
        "ufo.State.replace('Fl', 'FL', inplace=True)"
      ]
    },
    {
      "cell_type": "code",
      "source": [
        "ufo"
      ],
      "metadata": {
        "id": "Go9-vyt80Qwc"
      },
      "execution_count": null,
      "outputs": []
    },
    {
      "cell_type": "code",
      "execution_count": null,
      "metadata": {
        "id": "M1DHHEAnsdjo"
      },
      "outputs": [],
      "source": [
        "# String methods are accessed via \"str\".\n",
        "ufo.State.str.upper()                               # Converts to upper case\n",
        "# checks for a substring\n",
        "ufo['colors'].str.contains('RED', na='False')"
      ]
    },
    {
      "cell_type": "code",
      "execution_count": null,
      "metadata": {
        "id": "9DeMzLcpsdjo"
      },
      "outputs": [],
      "source": [
        "# Convert a string to the datetime format (this is often slow — consider doing it in the \"read_csv()\" method.)\n",
        "ufo['Time'] = pd.to_datetime(ufo.Time)\n",
        "ufo.Time.dt.hour                        # Datetime format exposes convenient attributes\n",
        "(ufo.Time.max() - ufo.Time.min()).days  # Also allows you to do datetime \"math\""
      ]
    },
    {
      "cell_type": "code",
      "execution_count": null,
      "metadata": {
        "id": "OFvguqgysdjo"
      },
      "outputs": [],
      "source": [
        "# Set and then remove an index.\n",
        "ufo.set_index('Time', inplace=True)\n",
        "ufo.reset_index(inplace=True)"
      ]
    },
    {
      "cell_type": "code",
      "execution_count": null,
      "metadata": {
        "id": "msgIUpmGsdjp"
      },
      "outputs": [],
      "source": [
        "# Change the datatype of a column.\n",
        "drinks['beer'] = drinks.beer.astype('float')"
      ]
    },
    {
      "cell_type": "code",
      "execution_count": null,
      "metadata": {
        "id": "fJyYWGtGsdjp"
      },
      "outputs": [],
      "source": [
        "# Create dummy variables for \"continent\" and exclude first dummy column.\n",
        "continent_dummies = pd.get_dummies(drinks.continent, prefix='cont').iloc[:, 1:]"
      ]
    },
    {
      "cell_type": "code",
      "execution_count": null,
      "metadata": {
        "id": "b-4SHIezsdjp"
      },
      "outputs": [],
      "source": [
        "# Concatenate two DataFrames (axis=0 for rows, axis=1 for columns).\n",
        "drinks = pd.concat([drinks, continent_dummies], axis=1)"
      ]
    },
    {
      "cell_type": "markdown",
      "metadata": {
        "id": "iWaoMpdbsdjq"
      },
      "source": [
        "<a id=\"uncommon-features\"></a>\n",
        "### OPTIONAL: Other Less-Used Features of Pandas"
      ]
    },
    {
      "cell_type": "code",
      "execution_count": null,
      "metadata": {
        "id": "KasQP82Ksdjq"
      },
      "outputs": [],
      "source": [
        "# Detecting duplicate rows\n",
        "users.duplicated()          # True if a row is identical to a previous row\n",
        "users.duplicated().sum()    # Count of duplicates\n",
        "users[users.duplicated()]   # Only show duplicates\n",
        "users.drop_duplicates()     # Drop duplicate rows\n",
        "users.age.duplicated()      # Check a single column for duplicates\n",
        "users.duplicated(['age', 'gender', 'zip_code']).sum()   # Specify columns for finding duplicates"
      ]
    },
    {
      "cell_type": "code",
      "execution_count": null,
      "metadata": {
        "id": "XIjty4zWsdjq"
      },
      "outputs": [],
      "source": [
        "# Convert a range of values into descriptive groups.\n",
        "drinks['beer_level'] = 'low'    # Initially set all values to \"low\"\n",
        "drinks.loc[drinks.beer.between(101, 200), 'beer_level'] = 'med'     # Change 101-200 to \"med\"\n",
        "drinks.loc[drinks.beer.between(201, 400), 'beer_level'] = 'high'    # Change 201-400 to \"high\""
      ]
    },
    {
      "cell_type": "code",
      "execution_count": null,
      "metadata": {
        "id": "tQOU-278sdjq"
      },
      "outputs": [],
      "source": [
        "# Display a cross-tabulation of two Series.\n",
        "pd.crosstab(drinks.continent, drinks.beer_level)"
      ]
    },
    {
      "cell_type": "code",
      "execution_count": null,
      "metadata": {
        "id": "PJFBYLsesdjr"
      },
      "outputs": [],
      "source": [
        "# Convert \"beer_level\" into the \"category\" datatype.\n",
        "drinks['beer_level'] = pd.Categorical(drinks.beer_level, categories=['low', 'med', 'high'])\n",
        "drinks.sort_values('beer_level')   # Sorts by the categorical ordering (low to high)"
      ]
    },
    {
      "cell_type": "code",
      "execution_count": null,
      "metadata": {
        "id": "SAebftzfsdjr"
      },
      "outputs": [],
      "source": [
        "# Limit which rows are read when reading in a file — useful for large files!\n",
        "pd.read_csv('./data/drinks.csv', nrows=10)           # Only read first 10 rows\n",
        "pd.read_csv('./data/drinks.csv', skiprows=[1, 2])    # Skip the first two rows of data"
      ]
    },
    {
      "cell_type": "code",
      "execution_count": null,
      "metadata": {
        "id": "gW1EbMSosdjr"
      },
      "outputs": [],
      "source": [
        "# Write a DataFrame out to a .csv\n",
        "drinks.to_csv('drinks_updated.csv')                 # Index is used as first column\n",
        "drinks.to_csv('drinks_updated.csv', index=False)    # Ignore index"
      ]
    },
    {
      "cell_type": "code",
      "execution_count": null,
      "metadata": {
        "id": "MBSdZYdAsdjs"
      },
      "outputs": [],
      "source": [
        "# Create a DataFrame from a dictionary.\n",
        "pd.DataFrame({'capital':['Montgomery', 'Juneau', 'Phoenix'], 'state':['AL', 'AK', 'AZ']})"
      ]
    },
    {
      "cell_type": "code",
      "execution_count": null,
      "metadata": {
        "id": "1op8sd30sdjs"
      },
      "outputs": [],
      "source": [
        "# Create a DataFrame from a list of lists.\n",
        "pd.DataFrame([['Montgomery', 'AL'], ['Juneau', 'AK'], ['Phoenix', 'AZ']], columns=['capital', 'state'])"
      ]
    },
    {
      "cell_type": "code",
      "execution_count": null,
      "metadata": {
        "id": "W3O1xVAqsdjs"
      },
      "outputs": [],
      "source": [
        "# Randomly sample a DataFrame.\n",
        "import numpy as np\n",
        "mask = np.random.rand(len(drinks)) < 0.66   # Create a Series of Booleans\n",
        "train = drinks[mask]                        # Will contain around 66% of the rows\n",
        "test = drinks[~mask]                        # Will contain the remaining rows"
      ]
    },
    {
      "cell_type": "code",
      "execution_count": null,
      "metadata": {
        "id": "cbrTxlJlsdjs"
      },
      "outputs": [],
      "source": [
        "# Change the maximum number of rows and columns printed ('None' means unlimited).\n",
        "pd.options.display.max_rows = None     # Default is 60 rows\n",
        "pd.options.display.max_columns = None    # Default is 20 columns\n",
        "print(drinks)"
      ]
    },
    {
      "cell_type": "code",
      "execution_count": null,
      "metadata": {
        "id": "KmesKmjcsdjs"
      },
      "outputs": [],
      "source": [
        "# Reset options to defaults.\n",
        "pd.reset_option('max_rows')\n",
        "pd.reset_option('max_columns')"
      ]
    },
    {
      "cell_type": "markdown",
      "metadata": {
        "collapsed": true,
        "id": "TWnlJgE8sdjt"
      },
      "source": [
        "<a id=\"summary\"></a>\n",
        "### Summary\n",
        "\n",
        "Believe it or not, we've only barely touched the surface of everything that Pandas offers. Don't worry if you don't remember most of it — for now, just knowing what exists is key. Remember that the more you use Pandas to manipulate data, the more of these functions you will take interest in, look up, and remember.\n",
        "\n",
        "In this notebook, the most important things to familiarize yourself with are the basics:\n",
        "- Manipulating `DataFrames` and `Series`\n",
        "- Filtering columns and rows\n",
        "- Handling missing values\n",
        "- Split-apply-combine (this one takes some practice!)"
      ]
    }
  ],
  "metadata": {
    "kernelspec": {
      "display_name": "Python 3",
      "name": "python3"
    },
    "language_info": {
      "name": "python"
    },
    "colab": {
      "provenance": [],
      "include_colab_link": true
    }
  },
  "nbformat": 4,
  "nbformat_minor": 0
}